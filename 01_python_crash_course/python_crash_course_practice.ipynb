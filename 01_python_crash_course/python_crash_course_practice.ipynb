{
  "nbformat": 4,
  "nbformat_minor": 0,
  "metadata": {
    "colab": {
      "provenance": []
    },
    "kernelspec": {
      "name": "python3",
      "display_name": "Python 3"
    },
    "language_info": {
      "name": "python"
    }
  },
  "cells": [
    {
      "cell_type": "code",
      "execution_count": null,
      "metadata": {
        "id": "rnmWvHKRu9tp"
      },
      "outputs": [],
      "source": [
        "x = {'outer_key':{'inner_key': 'inner_value'}}"
      ]
    },
    {
      "cell_type": "code",
      "source": [
        "x['outer_key']"
      ],
      "metadata": {
        "colab": {
          "base_uri": "https://localhost:8080/"
        },
        "id": "OGpMW9XbvNKZ",
        "outputId": "b441fab2-89d5-4eaa-9e6f-a0ad6341fb74"
      },
      "execution_count": null,
      "outputs": [
        {
          "output_type": "execute_result",
          "data": {
            "text/plain": [
              "{'inner_key': 'inner_value'}"
            ]
          },
          "metadata": {},
          "execution_count": 76
        }
      ]
    },
    {
      "cell_type": "code",
      "source": [
        "x['outer_key']['inner_key']"
      ],
      "metadata": {
        "colab": {
          "base_uri": "https://localhost:8080/",
          "height": 35
        },
        "id": "vEW6cxvivSK2",
        "outputId": "85fc71c0-672a-4ef9-b687-37692f41a858"
      },
      "execution_count": null,
      "outputs": [
        {
          "output_type": "execute_result",
          "data": {
            "text/plain": [
              "'inner_value'"
            ],
            "application/vnd.google.colaboratory.intrinsic+json": {
              "type": "string"
            }
          },
          "metadata": {},
          "execution_count": 77
        }
      ]
    },
    {
      "cell_type": "code",
      "source": [
        "x = [1,1,2,3,3,3,3,3,3,3,3,4,5,6,7,7,8,9]\n",
        "x = set(x)\n",
        "x"
      ],
      "metadata": {
        "colab": {
          "base_uri": "https://localhost:8080/"
        },
        "id": "6TaqcdzUwo2y",
        "outputId": "2f093913-de50-45b6-93ab-a2cfc4ada5b3"
      },
      "execution_count": null,
      "outputs": [
        {
          "output_type": "execute_result",
          "data": {
            "text/plain": [
              "{1, 2, 3, 4, 5, 6, 7, 8, 9}"
            ]
          },
          "metadata": {},
          "execution_count": 8
        }
      ]
    },
    {
      "cell_type": "code",
      "source": [
        "x = [1,1,2,3,3,3,3,3,3,3,3,4,5,6,7,7,8,9]\n",
        "x = list(set(x))\n",
        "x"
      ],
      "metadata": {
        "colab": {
          "base_uri": "https://localhost:8080/"
        },
        "id": "nIfLv4hsw3TM",
        "outputId": "4d4d9962-7031-4799-c55f-9353cc8858fc"
      },
      "execution_count": null,
      "outputs": [
        {
          "output_type": "execute_result",
          "data": {
            "text/plain": [
              "[1, 2, 3, 4, 5, 6, 7, 8, 9]"
            ]
          },
          "metadata": {},
          "execution_count": 9
        }
      ]
    },
    {
      "cell_type": "code",
      "source": [
        "i = 1\n",
        "if i < 2:\n",
        "  i = i + 2\n",
        "if i < 4:\n",
        "  i = i + 2\n",
        "print(i)    "
      ],
      "metadata": {
        "colab": {
          "base_uri": "https://localhost:8080/"
        },
        "id": "TIcedUrCyCtG",
        "outputId": "ad3d6ae2-1ed4-48de-adfa-3086c5edb32e"
      },
      "execution_count": null,
      "outputs": [
        {
          "output_type": "stream",
          "name": "stdout",
          "text": [
            "5\n"
          ]
        }
      ]
    },
    {
      "cell_type": "code",
      "source": [
        "if i < 2:\n",
        "  print('hi')\n",
        "elif i == 2:\n",
        "  print('bye')\n",
        "elif i > 2:\n",
        "  print('oh')    "
      ],
      "metadata": {
        "colab": {
          "base_uri": "https://localhost:8080/"
        },
        "id": "k0fBqJHzyV5z",
        "outputId": "8090c3f4-8ade-4188-c7c4-0804ac3c05fc"
      },
      "execution_count": null,
      "outputs": [
        {
          "output_type": "stream",
          "name": "stdout",
          "text": [
            "oh\n"
          ]
        }
      ]
    },
    {
      "cell_type": "code",
      "source": [
        "[i**2 for i in range(0,14,2)]"
      ],
      "metadata": {
        "colab": {
          "base_uri": "https://localhost:8080/"
        },
        "id": "PVbC2nAc11P-",
        "outputId": "392b11c7-d198-42ab-9e11-11ab5443916a"
      },
      "execution_count": null,
      "outputs": [
        {
          "output_type": "execute_result",
          "data": {
            "text/plain": [
              "[0, 4, 16, 36, 64, 100, 144]"
            ]
          },
          "metadata": {},
          "execution_count": 21
        }
      ]
    },
    {
      "cell_type": "code",
      "source": [
        "def times(num):\n",
        "  return num * 2"
      ],
      "metadata": {
        "id": "_C4s5Vc-3nRy"
      },
      "execution_count": null,
      "outputs": []
    },
    {
      "cell_type": "code",
      "source": [
        "seq = [i for i in range(1,6)]"
      ],
      "metadata": {
        "id": "ZqFijDHO3R6H"
      },
      "execution_count": null,
      "outputs": []
    },
    {
      "cell_type": "code",
      "source": [
        "list(map(times,seq))"
      ],
      "metadata": {
        "colab": {
          "base_uri": "https://localhost:8080/"
        },
        "id": "L-kXm2Er3XaE",
        "outputId": "967f821e-49e4-4d76-8dff-971ec8d5d743"
      },
      "execution_count": null,
      "outputs": [
        {
          "output_type": "execute_result",
          "data": {
            "text/plain": [
              "[2, 4, 6, 8, 10]"
            ]
          },
          "metadata": {},
          "execution_count": 10
        }
      ]
    },
    {
      "cell_type": "code",
      "source": [
        "def triple(num): return num * 3"
      ],
      "metadata": {
        "id": "pcwZuRp2rmq1"
      },
      "execution_count": null,
      "outputs": []
    },
    {
      "cell_type": "code",
      "source": [
        "lambda num: num * 3"
      ],
      "metadata": {
        "colab": {
          "base_uri": "https://localhost:8080/"
        },
        "id": "_dg3Y9CJrwfu",
        "outputId": "59554305-6451-4487-bd3a-012bf622996c"
      },
      "execution_count": null,
      "outputs": [
        {
          "output_type": "execute_result",
          "data": {
            "text/plain": [
              "<function __main__.<lambda>(num)>"
            ]
          },
          "metadata": {},
          "execution_count": 12
        }
      ]
    },
    {
      "cell_type": "code",
      "source": [
        "list(map(lambda i: i * 3, seq))"
      ],
      "metadata": {
        "colab": {
          "base_uri": "https://localhost:8080/"
        },
        "id": "nuMy5Vlzr1mI",
        "outputId": "1af88723-8479-4fbf-89ea-5b1f07a5058a"
      },
      "execution_count": null,
      "outputs": [
        {
          "output_type": "execute_result",
          "data": {
            "text/plain": [
              "[3, 6, 9, 12, 15]"
            ]
          },
          "metadata": {},
          "execution_count": 14
        }
      ]
    },
    {
      "cell_type": "code",
      "source": [
        "x = [i for i in range(1,11,2)]\n",
        "tuple(map(lambda x: x **2,x))"
      ],
      "metadata": {
        "colab": {
          "base_uri": "https://localhost:8080/"
        },
        "id": "_mcX7iw5sjlB",
        "outputId": "e0dfec35-6ecb-4674-e6a2-fb3013f645c2"
      },
      "execution_count": null,
      "outputs": [
        {
          "output_type": "execute_result",
          "data": {
            "text/plain": [
              "(1, 9, 25, 49, 81)"
            ]
          },
          "metadata": {},
          "execution_count": 16
        }
      ]
    },
    {
      "cell_type": "code",
      "source": [
        "list(filter(lambda x: x % 2 == 0, [i for i in range(0,21)]))"
      ],
      "metadata": {
        "colab": {
          "base_uri": "https://localhost:8080/"
        },
        "id": "XMwRXnJEtcHC",
        "outputId": "2beffff1-a17d-44f3-b100-7a7180b856d8"
      },
      "execution_count": null,
      "outputs": [
        {
          "output_type": "execute_result",
          "data": {
            "text/plain": [
              "[0, 2, 4, 6, 8, 10, 12, 14, 16, 18, 20]"
            ]
          },
          "metadata": {},
          "execution_count": 19
        }
      ]
    },
    {
      "cell_type": "code",
      "source": [
        "print(list(map(lambda x: x **2, [i for i in range (1,121)])), end= \" \")"
      ],
      "metadata": {
        "colab": {
          "base_uri": "https://localhost:8080/"
        },
        "id": "UVPEJiN_txA1",
        "outputId": "a7038bc6-6aa7-40fd-ab74-69a9703ff6e9"
      },
      "execution_count": null,
      "outputs": [
        {
          "output_type": "stream",
          "name": "stdout",
          "text": [
            "[1, 4, 9, 16, 25, 36, 49, 64, 81, 100, 121, 144, 169, 196, 225, 256, 289, 324, 361, 400, 441, 484, 529, 576, 625, 676, 729, 784, 841, 900, 961, 1024, 1089, 1156, 1225, 1296, 1369, 1444, 1521, 1600, 1681, 1764, 1849, 1936, 2025, 2116, 2209, 2304, 2401, 2500, 2601, 2704, 2809, 2916, 3025, 3136, 3249, 3364, 3481, 3600, 3721, 3844, 3969, 4096, 4225, 4356, 4489, 4624, 4761, 4900, 5041, 5184, 5329, 5476, 5625, 5776, 5929, 6084, 6241, 6400, 6561, 6724, 6889, 7056, 7225, 7396, 7569, 7744, 7921, 8100, 8281, 8464, 8649, 8836, 9025, 9216, 9409, 9604, 9801, 10000, 10201, 10404, 10609, 10816, 11025, 11236, 11449, 11664, 11881, 12100, 12321, 12544, 12769, 12996, 13225, 13456, 13689, 13924, 14161, 14400] "
          ]
        }
      ]
    },
    {
      "cell_type": "code",
      "source": [
        "tweet = 'Go sports! #Sports'"
      ],
      "metadata": {
        "id": "yM8IJFNquEEI"
      },
      "execution_count": null,
      "outputs": []
    },
    {
      "cell_type": "code",
      "source": [
        "tweet.split()"
      ],
      "metadata": {
        "colab": {
          "base_uri": "https://localhost:8080/"
        },
        "id": "0-C2kJJOu2nz",
        "outputId": "1ec9e744-3ee3-46b7-f6e1-86263191e582"
      },
      "execution_count": null,
      "outputs": [
        {
          "output_type": "execute_result",
          "data": {
            "text/plain": [
              "['Go', 'sports!', '#Sports']"
            ]
          },
          "metadata": {},
          "execution_count": 25
        }
      ]
    },
    {
      "cell_type": "code",
      "source": [
        "tweet.split('#')[1]"
      ],
      "metadata": {
        "colab": {
          "base_uri": "https://localhost:8080/",
          "height": 35
        },
        "id": "tmaTqZTjvDH4",
        "outputId": "26f16a2d-1855-4dd8-b4a4-9d1226f468ea"
      },
      "execution_count": null,
      "outputs": [
        {
          "output_type": "execute_result",
          "data": {
            "text/plain": [
              "'Sports'"
            ],
            "application/vnd.google.colaboratory.intrinsic+json": {
              "type": "string"
            }
          },
          "metadata": {},
          "execution_count": 28
        }
      ]
    },
    {
      "cell_type": "code",
      "source": [
        "tweet = r'Peace and love ❤️ and pasta sauce. Cya @Twitter. It was fun.'"
      ],
      "metadata": {
        "id": "5UzBd8fFvMJD"
      },
      "execution_count": null,
      "outputs": []
    },
    {
      "cell_type": "code",
      "source": [
        "tweet.split('@')[1][0:7]"
      ],
      "metadata": {
        "colab": {
          "base_uri": "https://localhost:8080/",
          "height": 35
        },
        "id": "eChbBo9rvfJF",
        "outputId": "307f47bf-6df1-45cf-c005-fa464ecb2c02"
      },
      "execution_count": null,
      "outputs": [
        {
          "output_type": "execute_result",
          "data": {
            "text/plain": [
              "'Twitter'"
            ],
            "application/vnd.google.colaboratory.intrinsic+json": {
              "type": "string"
            }
          },
          "metadata": {},
          "execution_count": 37
        }
      ]
    },
    {
      "cell_type": "code",
      "source": [
        "import re\n",
        "print(re.findall(r'@(\\w+)', tweet))"
      ],
      "metadata": {
        "colab": {
          "base_uri": "https://localhost:8080/"
        },
        "id": "Kqb9mRPxwIBy",
        "outputId": "3e4c7751-891b-4871-ba6c-7186def3eeb0"
      },
      "execution_count": null,
      "outputs": [
        {
          "output_type": "stream",
          "name": "stdout",
          "text": [
            "['Twitter']\n"
          ]
        }
      ]
    },
    {
      "cell_type": "code",
      "source": [
        "print(re.findall(r'[A-Z]', tweet))"
      ],
      "metadata": {
        "colab": {
          "base_uri": "https://localhost:8080/"
        },
        "id": "PI-fpNhVxT_5",
        "outputId": "54fcbefc-e24a-45bc-d306-d49a23ac21c9"
      },
      "execution_count": null,
      "outputs": [
        {
          "output_type": "stream",
          "name": "stdout",
          "text": [
            "['P', 'C', 'T', 'I']\n"
          ]
        }
      ]
    },
    {
      "cell_type": "code",
      "source": [
        "print(re.findall(r'[a-z]', tweet))"
      ],
      "metadata": {
        "colab": {
          "base_uri": "https://localhost:8080/"
        },
        "id": "HLz-Sh6LzRv-",
        "outputId": "f45b8187-15c9-467d-d542-7a32a481490e"
      },
      "execution_count": null,
      "outputs": [
        {
          "output_type": "stream",
          "name": "stdout",
          "text": [
            "['e', 'a', 'c', 'e', 'a', 'n', 'd', 'l', 'o', 'v', 'e', 'a', 'n', 'd', 'p', 'a', 's', 't', 'a', 's', 'a', 'u', 'c', 'e', 'y', 'a', 'w', 'i', 't', 't', 'e', 'r', 't', 'w', 'a', 's', 'f', 'u', 'n']\n"
          ]
        }
      ]
    },
    {
      "cell_type": "code",
      "source": [
        "tweet = 'Go sports! #Sports'\n",
        "print(re.findall(r'#(\\w+)', tweet))"
      ],
      "metadata": {
        "colab": {
          "base_uri": "https://localhost:8080/"
        },
        "id": "pgBr3cPS00LO",
        "outputId": "58084690-a4c3-4235-f649-cf411d90262d"
      },
      "execution_count": null,
      "outputs": [
        {
          "output_type": "stream",
          "name": "stdout",
          "text": [
            "['Sports']\n"
          ]
        }
      ]
    },
    {
      "cell_type": "code",
      "source": [
        "message = 'It was a bright cold day in April, and the clock was striking 13.'\n",
        "count={}\n",
        "for char in message.upper():\n",
        "  count.setdefault(char, 0)\n",
        "  count[char] += 1\n",
        "print(count, end= ' ')  "
      ],
      "metadata": {
        "colab": {
          "base_uri": "https://localhost:8080/"
        },
        "id": "h46xYZrX1Ls3",
        "outputId": "8c8682d5-87e9-404f-94d9-e20434923e4a"
      },
      "execution_count": null,
      "outputs": [
        {
          "output_type": "stream",
          "name": "stdout",
          "text": [
            "{'I': 6, 'T': 4, ' ': 13, 'W': 2, 'A': 6, 'S': 3, 'B': 1, 'R': 3, 'G': 2, 'H': 2, 'C': 3, 'O': 2, 'L': 3, 'D': 3, 'Y': 1, 'N': 3, 'P': 1, ',': 1, 'E': 1, 'K': 2, '1': 1, '3': 1, '.': 1} "
          ]
        }
      ]
    },
    {
      "cell_type": "code",
      "source": [
        "lst = [0,1,2,3,4,5,6]\n",
        "first_index = lst.pop(0)\n",
        "print(lst)\n",
        "print(first_index)"
      ],
      "metadata": {
        "colab": {
          "base_uri": "https://localhost:8080/"
        },
        "id": "DuQPNUaN147j",
        "outputId": "4855eeea-cba5-4d13-844f-34a343d9a7fc"
      },
      "execution_count": null,
      "outputs": [
        {
          "output_type": "stream",
          "name": "stdout",
          "text": [
            "[1, 2, 3, 4, 5, 6]\n",
            "0\n"
          ]
        }
      ]
    },
    {
      "cell_type": "code",
      "source": [
        "2 in [i for i in range(1,4)]"
      ],
      "metadata": {
        "colab": {
          "base_uri": "https://localhost:8080/"
        },
        "id": "GkeGEIyh2Mm4",
        "outputId": "6a41f4e4-9ff4-4fc5-b1a2-8f019c84227d"
      },
      "execution_count": null,
      "outputs": [
        {
          "output_type": "execute_result",
          "data": {
            "text/plain": [
              "True"
            ]
          },
          "metadata": {},
          "execution_count": 49
        }
      ]
    },
    {
      "cell_type": "code",
      "source": [
        "x = [(1,2), (3,4),(5,6)]\n",
        "for (a,b) in x:\n",
        "  print(a)"
      ],
      "metadata": {
        "colab": {
          "base_uri": "https://localhost:8080/"
        },
        "id": "Wqypl8f92gZG",
        "outputId": "14080160-f90c-4ecf-d88a-8404ef2f3136"
      },
      "execution_count": null,
      "outputs": [
        {
          "output_type": "stream",
          "name": "stdout",
          "text": [
            "1\n",
            "3\n",
            "5\n"
          ]
        }
      ]
    },
    {
      "cell_type": "code",
      "source": [
        "def caught_speeding(speed, is_birthday):\n",
        "    if is_birthday:\n",
        "        speed = speed - 5\n",
        "    if speed <= 60:\n",
        "        print('No Ticket')\n",
        "    if speed >= 61 and speed <=80:\n",
        "        print('Small Ticket')\n",
        "    if speed >= 81:\n",
        "        print('Big ticket')"
      ],
      "metadata": {
        "id": "fxvWpEtR6bpa"
      },
      "execution_count": null,
      "outputs": []
    },
    {
      "cell_type": "code",
      "source": [
        "caught_speeding(81,True)"
      ],
      "metadata": {
        "colab": {
          "base_uri": "https://localhost:8080/"
        },
        "id": "4wCnNUvu6d01",
        "outputId": "684aac49-b3e5-4f89-cb77-f5f5d65ad2b9"
      },
      "execution_count": null,
      "outputs": [
        {
          "output_type": "stream",
          "name": "stdout",
          "text": [
            "Small Ticket\n"
          ]
        }
      ]
    },
    {
      "cell_type": "code",
      "source": [
        "d = {'k1':[1,2,3,{'tricky':['oh','man','inception',{'target':[1,2,3,'hello']}]}]}"
      ],
      "metadata": {
        "id": "uKJAXN_VCNQ0"
      },
      "execution_count": null,
      "outputs": []
    },
    {
      "cell_type": "code",
      "source": [
        "d['k1'][3]['tricky'][3]['target'][3]"
      ],
      "metadata": {
        "colab": {
          "base_uri": "https://localhost:8080/",
          "height": 35
        },
        "id": "ACPY2W2TCOoS",
        "outputId": "9ac3e6eb-3b1d-4174-e003-a27ebe64ee93"
      },
      "execution_count": null,
      "outputs": [
        {
          "output_type": "execute_result",
          "data": {
            "text/plain": [
              "'hello'"
            ],
            "application/vnd.google.colaboratory.intrinsic+json": {
              "type": "string"
            }
          },
          "metadata": {},
          "execution_count": 10
        }
      ]
    }
  ]
}